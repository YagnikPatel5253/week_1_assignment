{
 "cells": [
  {
   "cell_type": "code",
   "execution_count": 1,
   "id": "f4d9c359-7563-4eba-b261-df117cbf4eab",
   "metadata": {},
   "outputs": [
    {
     "data": {
      "text/plain": [
       "str"
      ]
     },
     "execution_count": 1,
     "metadata": {},
     "output_type": "execute_result"
    }
   ],
   "source": [
    "#Quetion 1\n",
    "#String\n",
    "name = \"yagnik\"\n",
    "type(name)"
   ]
  },
  {
   "cell_type": "code",
   "execution_count": 2,
   "id": "7e96a8db-077b-4026-964b-d475d4e653ca",
   "metadata": {},
   "outputs": [
    {
     "data": {
      "text/plain": [
       "list"
      ]
     },
     "execution_count": 2,
     "metadata": {},
     "output_type": "execute_result"
    }
   ],
   "source": [
    "#List\n",
    "l = [3.14,4,'yagnik',3 + 4j]\n",
    "type(l)"
   ]
  },
  {
   "cell_type": "code",
   "execution_count": 3,
   "id": "caf336b6-aa42-4395-a7c1-68f587642d2f",
   "metadata": {},
   "outputs": [
    {
     "data": {
      "text/plain": [
       "float"
      ]
     },
     "execution_count": 3,
     "metadata": {},
     "output_type": "execute_result"
    }
   ],
   "source": [
    "#Float\n",
    "pi = 3.14\n",
    "type(pi)"
   ]
  },
  {
   "cell_type": "code",
   "execution_count": 5,
   "id": "228fff9b-b6d2-4f88-aa3f-958b0c651c87",
   "metadata": {},
   "outputs": [
    {
     "data": {
      "text/plain": [
       "tuple"
      ]
     },
     "execution_count": 5,
     "metadata": {},
     "output_type": "execute_result"
    }
   ],
   "source": [
    "#Tuple\n",
    "s = (3.14,4,'yagik')\n",
    "type(s)"
   ]
  },
  {
   "cell_type": "code",
   "execution_count": 7,
   "id": "e8a53a7f-6d13-4937-a032-af3a825dd837",
   "metadata": {},
   "outputs": [],
   "source": [
    "#Question 2\n",
    "var1 = ' '\n",
    "#String"
   ]
  },
  {
   "cell_type": "code",
   "execution_count": 9,
   "id": "8b7da645-2c93-4162-81ef-fbcc7c8d1002",
   "metadata": {},
   "outputs": [],
   "source": [
    "var2 = '[ DS , ML , Python]'\n",
    "#String"
   ]
  },
  {
   "cell_type": "code",
   "execution_count": 14,
   "id": "b9292db6-ba91-45c8-99bf-065ef9dbeb07",
   "metadata": {},
   "outputs": [],
   "source": [
    "var3 = [ 'DS' , 'ML' , 'Python' ]\n",
    "#List"
   ]
  },
  {
   "cell_type": "code",
   "execution_count": 15,
   "id": "9161fb4b-1c1c-4250-8914-4a36edcad7f1",
   "metadata": {},
   "outputs": [],
   "source": [
    "var4 = 1.\n",
    "#Float"
   ]
  },
  {
   "cell_type": "code",
   "execution_count": 22,
   "id": "f1b24a0a-1c44-4935-97d2-4e9a64bee1ec",
   "metadata": {},
   "outputs": [
    {
     "data": {
      "text/plain": [
       "5.0"
      ]
     },
     "execution_count": 22,
     "metadata": {},
     "output_type": "execute_result"
    }
   ],
   "source": [
    "#Question 3\n",
    "a = 10\n",
    "b = 2\n",
    "a / b\n",
    "#to divide a number\n"
   ]
  },
  {
   "cell_type": "code",
   "execution_count": 23,
   "id": "f53b5501-9b8d-40a0-a018-f2afea533a4f",
   "metadata": {},
   "outputs": [
    {
     "data": {
      "text/plain": [
       "0"
      ]
     },
     "execution_count": 23,
     "metadata": {},
     "output_type": "execute_result"
    }
   ],
   "source": [
    "a % b\n",
    "#it is used to find a modulo"
   ]
  },
  {
   "cell_type": "code",
   "execution_count": 24,
   "id": "d89916ea-0d76-4bea-a2a2-c6622476868e",
   "metadata": {},
   "outputs": [
    {
     "data": {
      "text/plain": [
       "5"
      ]
     },
     "execution_count": 24,
     "metadata": {},
     "output_type": "execute_result"
    }
   ],
   "source": [
    "a // b\n",
    "#it is used to round down nearest number (integer)"
   ]
  },
  {
   "cell_type": "code",
   "execution_count": 25,
   "id": "34ec3391-5f7d-4feb-ac22-47d0820f9124",
   "metadata": {},
   "outputs": [
    {
     "data": {
      "text/plain": [
       "100"
      ]
     },
     "execution_count": 25,
     "metadata": {},
     "output_type": "execute_result"
    }
   ],
   "source": [
    "a ** b\n",
    "#it is used to power a number for example, 10 power 2 = 100"
   ]
  },
  {
   "cell_type": "code",
   "execution_count": 29,
   "id": "f458b1cf-ee7f-4636-a9c2-600a9ef37c5f",
   "metadata": {},
   "outputs": [
    {
     "name": "stdout",
     "output_type": "stream",
     "text": [
      "<class 'int'>\n",
      "3\n",
      "<class 'int'>\n",
      "4\n",
      "<class 'int'>\n",
      "5\n",
      "<class 'int'>\n",
      "6\n",
      "<class 'int'>\n",
      "1\n",
      "<class 'float'>\n",
      "3.14\n",
      "<class 'str'>\n",
      "yagnik\n",
      "<class 'complex'>\n",
      "(3+4j)\n",
      "<class 'float'>\n",
      "5.4\n",
      "<class 'float'>\n",
      "6.3\n"
     ]
    }
   ],
   "source": [
    "#Question 4\n",
    "List = [3,4,5,6,1,3.14,'yagnik',3 + 4j,5.4,6.3]\n",
    "for i in List:\n",
    "    print(type(i))\n",
    "    print(i)"
   ]
  },
  {
   "cell_type": "code",
   "execution_count": 31,
   "id": "fac53ee3-3cc4-4816-aed2-a9a7d77de9e2",
   "metadata": {},
   "outputs": [
    {
     "ename": "TypeError",
     "evalue": "'str' object does not support item assignment",
     "output_type": "error",
     "traceback": [
      "\u001b[0;31m---------------------------------------------------------------------------\u001b[0m",
      "\u001b[0;31mTypeError\u001b[0m                                 Traceback (most recent call last)",
      "Cell \u001b[0;32mIn[31], line 6\u001b[0m\n\u001b[1;32m      1\u001b[0m \u001b[38;5;66;03m#Question 7\u001b[39;00m\n\u001b[1;32m      2\u001b[0m \u001b[38;5;66;03m#Immutable means we can not change it\u001b[39;00m\n\u001b[1;32m      3\u001b[0m \u001b[38;5;66;03m#for example,\u001b[39;00m\n\u001b[1;32m      4\u001b[0m \u001b[38;5;66;03m#String and tuple are immutable we can not change them by their indexing\u001b[39;00m\n\u001b[1;32m      5\u001b[0m n \u001b[38;5;241m=\u001b[39m \u001b[38;5;124m'\u001b[39m\u001b[38;5;124myagnik\u001b[39m\u001b[38;5;124m'\u001b[39m\n\u001b[0;32m----> 6\u001b[0m \u001b[43mn\u001b[49m\u001b[43m[\u001b[49m\u001b[38;5;241;43m0\u001b[39;49m\u001b[43m]\u001b[49m \u001b[38;5;241m=\u001b[39m \u001b[38;5;124m'\u001b[39m\u001b[38;5;124mz\u001b[39m\u001b[38;5;124m'\u001b[39m\n",
      "\u001b[0;31mTypeError\u001b[0m: 'str' object does not support item assignment"
     ]
    }
   ],
   "source": [
    "#Question 7\n",
    "#Immutable means we can not change it\n",
    "#for example,\n",
    "#String and tuple are immutable we can not change them by their indexing\n",
    "#for example\n",
    "n = 'yagnik'\n",
    "n[0] = 'z'"
   ]
  },
  {
   "cell_type": "code",
   "execution_count": 1,
   "id": "b05e0e87-2e42-444c-a9b1-6eb83988ddfc",
   "metadata": {},
   "outputs": [],
   "source": [
    "#Mutable means we can change it\n",
    "#for instance,\n",
    "#List is mutable data type we can change it by their indexing\n",
    "z = [3.14,5,2,'pwskills']\n",
    "z[-1] = 'pw'"
   ]
  },
  {
   "cell_type": "code",
   "execution_count": 2,
   "id": "79cab2be-a2ec-4719-b112-1327cea572dd",
   "metadata": {},
   "outputs": [
    {
     "data": {
      "text/plain": [
       "[3.14, 5, 2, 'pw']"
      ]
     },
     "execution_count": 2,
     "metadata": {},
     "output_type": "execute_result"
    }
   ],
   "source": [
    "z"
   ]
  },
  {
   "cell_type": "code",
   "execution_count": 5,
   "id": "42bee480-3fe0-4c73-9531-486437c07dc7",
   "metadata": {},
   "outputs": [
    {
     "name": "stdin",
     "output_type": "stream",
     "text": [
      "Enter a value of a:  10\n",
      "Enter a value of b:  5\n"
     ]
    },
    {
     "name": "stdout",
     "output_type": "stream",
     "text": [
      "a is 1 times divisible by b.\n"
     ]
    }
   ],
   "source": [
    "#Question 5\n",
    "a = int(input('Enter a value of a: '))\n",
    "b = int(input('Enter a value of b: '))\n",
    "\n",
    "i = 0;\n",
    "while(a % b == 0):\n",
    "    i += 1\n",
    "    a = a // b\n",
    "    \n",
    "#divisible condition\n",
    "if i > 0:\n",
    "    print(f\"a is {i} times divisible by b.\")"
   ]
  },
  {
   "cell_type": "code",
   "execution_count": 13,
   "id": "2916320f-d11b-42ba-83c1-aea6c1d06196",
   "metadata": {},
   "outputs": [
    {
     "name": "stdout",
     "output_type": "stream",
     "text": [
      "5 is not divisible by 3\n",
      "4 is not divisible by 3\n",
      "1 is not divisible by 3\n",
      "2 is not divisible by 3\n",
      "1 is not divisible by 3\n",
      "4 is not divisible by 3\n",
      "5 is not divisible by 3\n",
      "6 is divisible by 3\n",
      "7 is not divisible by 3\n",
      "8 is not divisible by 3\n",
      "9 is divisible by 3\n",
      "1 is not divisible by 3\n",
      "2 is not divisible by 3\n",
      "3 is divisible by 3\n",
      "4 is not divisible by 3\n",
      "7 is not divisible by 3\n",
      "9 is divisible by 3\n",
      "6 is divisible by 3\n",
      "2 is not divisible by 3\n",
      "1 is not divisible by 3\n",
      "4 is not divisible by 3\n",
      "6 is divisible by 3\n",
      "2 is not divisible by 3\n",
      "7 is not divisible by 3\n",
      "9 is divisible by 3\n"
     ]
    }
   ],
   "source": [
    "#Question 6\n",
    "my_list = [5,4,1,2,1,4,5,6,7,8,9,1,2,3,4,7,9,6,2,1,4,6,2,7,9]\n",
    "\n",
    "#Creating condition\n",
    "for i in my_list:\n",
    "    if i % 3 == 0:\n",
    "       print(f\"{i} is divisible by 3\")\n",
    "    else:\n",
    "       print(f\"{i} is not divisible by 3\")"
   ]
  },
  {
   "cell_type": "code",
   "execution_count": null,
   "id": "15b1ff4c-1f4b-4a43-bc9d-a1d858bd18fc",
   "metadata": {},
   "outputs": [],
   "source": []
  }
 ],
 "metadata": {
  "kernelspec": {
   "display_name": "Python 3 (ipykernel)",
   "language": "python",
   "name": "python3"
  },
  "language_info": {
   "codemirror_mode": {
    "name": "ipython",
    "version": 3
   },
   "file_extension": ".py",
   "mimetype": "text/x-python",
   "name": "python",
   "nbconvert_exporter": "python",
   "pygments_lexer": "ipython3",
   "version": "3.10.8"
  }
 },
 "nbformat": 4,
 "nbformat_minor": 5
}
